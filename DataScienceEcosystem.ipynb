{
  "nbformat": 4,
  "nbformat_minor": 0,
  "metadata": {
    "colab": {
      "provenance": []
    },
    "kernelspec": {
      "name": "python3",
      "display_name": "Python 3"
    },
    "language_info": {
      "name": "python"
    }
  },
  "cells": [
    {
      "cell_type": "markdown",
      "source": [
        "#Data Science Tools and Ecosystem"
      ],
      "metadata": {
        "id": "4d3CT5T-5fQh"
      }
    },
    {
      "cell_type": "markdown",
      "source": [
        "In this notebook, Data Science Tools and Ecosystem are summarized.\n"
      ],
      "metadata": {
        "id": "mXbkf1Cp6dKJ"
      }
    },
    {
      "cell_type": "markdown",
      "source": [
        "Some of the popular languages that Data Scientists use are:\n",
        " 1. Python\n",
        " 2. R\n",
        " 3. SQL"
      ],
      "metadata": {
        "id": "8x78RYbj60A8"
      }
    },
    {
      "cell_type": "markdown",
      "source": [
        "Some of the commonly used libraries used by Data Scientists include:\n",
        "\n",
        " * Pandas\n",
        " * Numpy\n",
        " * Matplotlib\n",
        " * Seaborn\n",
        " * Scikit-learn\n",
        "\n"
      ],
      "metadata": {
        "id": "qrR-vbXP7yO5"
      }
    },
    {
      "cell_type": "markdown",
      "source": [
        "|Data Science Tools |\n",
        "---------------------\n",
        "Jupyter notbook\n",
        "Rstudio\n",
        "Apache Spark\n",
        "MySQL"
      ],
      "metadata": {
        "id": "hHUAi04WE18_"
      }
    },
    {
      "cell_type": "markdown",
      "source": [
        "### Below are a few examples of evaluating arithmetic expressions in Python\n",
        "\n"
      ],
      "metadata": {
        "id": "dw30obS_JId3"
      }
    },
    {
      "cell_type": "code",
      "source": [
        "#This a simple arithmetic expression to mutiply then add integers\n",
        "\n",
        "(3*4)+5"
      ],
      "metadata": {
        "colab": {
          "base_uri": "https://localhost:8080/"
        },
        "id": "_COxuXjvJxj0",
        "outputId": "47e2511d-e32f-42e1-f2ba-8b734bb4144b"
      },
      "execution_count": 6,
      "outputs": [
        {
          "output_type": "execute_result",
          "data": {
            "text/plain": [
              "17"
            ]
          },
          "metadata": {},
          "execution_count": 6
        }
      ]
    },
    {
      "cell_type": "code",
      "source": [
        "# This will convert 200 minutes to hours by diving by 60\n",
        "\n",
        "200/60"
      ],
      "metadata": {
        "colab": {
          "base_uri": "https://localhost:8080/"
        },
        "id": "VmjyDZynKLN2",
        "outputId": "6cccc6b0-01a2-4644-e34b-a866477f1a7b"
      },
      "execution_count": 5,
      "outputs": [
        {
          "output_type": "execute_result",
          "data": {
            "text/plain": [
              "3.3333333333333335"
            ]
          },
          "metadata": {},
          "execution_count": 5
        }
      ]
    },
    {
      "cell_type": "markdown",
      "source": [
        "**Objectives:**\n",
        "\n",
        " * List popular languages for Data Science\n",
        " * List of the commonly used libraries for Data Scientist\n",
        " * List of Open-source Data Science Tools\n",
        " * Some arithmetic expressions"
      ],
      "metadata": {
        "id": "jj1I2FkuK10O"
      }
    },
    {
      "cell_type": "markdown",
      "source": [
        "## Author:\n",
        "     \n",
        "Cigdem Sahin\n",
        "\n",
        "\n"
      ],
      "metadata": {
        "id": "S7rh8FKAMV_L"
      }
    },
    {
      "cell_type": "code",
      "source": [],
      "metadata": {
        "id": "QMfUAQC_7O9Y"
      },
      "execution_count": null,
      "outputs": []
    },
    {
      "cell_type": "code",
      "source": [],
      "metadata": {
        "id": "Qh2vSBNU9Pe6"
      },
      "execution_count": null,
      "outputs": []
    },
    {
      "cell_type": "code",
      "source": [],
      "metadata": {
        "id": "BSm6jISA56aQ"
      },
      "execution_count": null,
      "outputs": []
    },
    {
      "cell_type": "code",
      "source": [],
      "metadata": {
        "id": "IfSI5mDj7jSh"
      },
      "execution_count": null,
      "outputs": []
    }
  ]
}